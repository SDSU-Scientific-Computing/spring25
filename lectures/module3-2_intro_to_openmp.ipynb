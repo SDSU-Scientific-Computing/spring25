{
 "cells": [
  {
   "cell_type": "markdown",
   "metadata": {},
   "source": [
    "# 12) Introduction to OpenMP\n",
    "\n",
    "Last time: \n",
    "\n",
    "- Introduction to parallel scaling\n",
    "- Strong Scaling\n",
    "- Weak Scaling\n",
    "\n",
    "Today:\n",
    "1. [OpenMP Basics](#openmp-basics)\n",
    "\n",
    "## 1. OpenMP Basics\n",
    "\n",
    "What is [OpenMP](https://en.wikipedia.org/wiki/OpenMP)?\n",
    "\n",
    "A community-developed standard Application Programming Interface (API) (with _directives_) for:\n",
    "* multithreaded programming\n",
    "* vectorization\n",
    "* offload to coprocessors (such as GPUs)\n",
    "\n",
    "\n",
    "We have already introduced multithreading:\n",
    "\n",
    "![](https://upload.wikimedia.org/wikipedia/commons/f/f1/Fork_join.svg)\n",
    "\n",
    "- OpenMP is available for C, C++, and Fortran.\n",
    "\n",
    "At the time of writing, latest version OpenMP 6.0 (November 2024).\n",
    "\n",
    "### OpenMP Resources:\n",
    "- [OpenMP Reference Cards](https://www.openmp.org/resources/refguides/)\n",
    "- [OpenMP 6.0 Examples PDF](https://www.openmp.org/wp-content/uploads/openmp-examples-6.0.pdf)\n",
    "- [LLNL tutorial](https://hpc-tutorials.llnl.gov/openmp/)\n",
    "- [ATPESC](https://extremecomputingtraining.anl.gov/) Training [video](https://www.youtube.com/watch?v=T0csnAirv-U&list=PLGj2a3KTwhRa6Ux64xg5L5ga6Jg8QykoQ&index=2)"
   ]
  }
 ],
 "metadata": {
  "language_info": {
   "name": "python"
  }
 },
 "nbformat": 4,
 "nbformat_minor": 2
}
