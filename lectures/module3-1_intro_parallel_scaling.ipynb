{
 "cells": [
  {
   "cell_type": "markdown",
   "metadata": {},
   "source": [
    "# 11) Introduction to Parallel Scaling\n",
    "\n",
    "Las- Intro to Multithreading\n",
    "\n",
    "Today:\n",
    "1. [Programs with more than one part](#programs-with-more-than-one-part)\n",
    "\n",
    "\n",
    "## 1. Programs with more than one part\n",
    "\n",
    "So far, we've focused on simple programs with only one part, but real programs have several different parts, often with data dependencies.\n",
    "\n",
    "Some parts will be amenable to optimization and/or parallelism and others will not.\n",
    "\n",
    "![Diminishing returns](https://upload.wikimedia.org/wikipedia/commons/thumb/4/40/Optimizing-different-parts.svg/2880px-Optimizing-different-parts.svg.png)\n",
    "\n",
    "\n",
    "This principle is called [Amdahl's Law](https://en.wikipedia.org/wiki/Amdahl%27s_law), which is a formula that shows how much faster a task can be completed when more resources are added to the system."
   ]
  },
  {
   "cell_type": "code",
   "execution_count": null,
   "metadata": {},
   "outputs": [],
   "source": [
    "function exec_time(f, p; n=10, latency=1)\n",
    "    # Suppose that a fraction f of the total work is amenable to optimization\n",
    "    # We run a problem size n with parallelization factor p\n",
    "    return latency + (1-f)*n .+ f*n./p\n",
    "end"
   ]
  },
  {
   "cell_type": "markdown",
   "metadata": {},
   "source": [
    "Let's see a few fractions for example:"
   ]
  },
  {
   "cell_type": "code",
   "execution_count": null,
   "metadata": {},
   "outputs": [],
   "source": [
    "using Plots\n",
    "using DataFrames\n",
    "using Printf\n",
    "default(linewidth=4, legendfontsize=12)\n",
    "\n",
    "ps = exp10.(range(log10(1), log10(1000), length=50))\n",
    "\n",
    "plot(ps, [exec_time(.99, ps, latency=0), exec_time(1, ps, latency=0)],\n",
    "    xscale=:log10, yscale=:log10, labels=[\"f=0.99\" \"f=1\"],\n",
    "    title=\"Strong scaling\", xlabel=\"p\", ylabel=\"time\")\n"
   ]
  },
  {
   "cell_type": "markdown",
   "metadata": {},
   "source": []
  }
 ],
 "metadata": {
  "kernelspec": {
   "display_name": "Julia 1.10.6",
   "language": "julia",
   "name": "julia-1.10"
  },
  "language_info": {
   "file_extension": ".jl",
   "mimetype": "application/julia",
   "name": "julia",
   "version": "1.10.6"
  }
 },
 "nbformat": 4,
 "nbformat_minor": 2
}
