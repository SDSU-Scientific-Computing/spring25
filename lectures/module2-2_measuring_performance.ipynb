{
 "cells": [
  {
   "cell_type": "markdown",
   "metadata": {},
   "source": [
    "# 6) Measuring Performance\n",
    "\n",
    "Last time:\n",
    "\n",
    "- CPU Optimization: Matrix-matrix multiplication\n",
    "\n",
    "Today:\n",
    "\n",
    "1. Measuring Performance\n",
    "\n",
    "## 1. Measuring Performance\n",
    "\n",
    "Two of the standard approaches to assessing performance:\n",
    "\n",
    " - Floating Point Operations per Second (FLOPS)\n",
    "    - FLOPs = Floating Pointer Operations (careful on the small \"s\" vs big \"S\") (see \n",
    "      [video: 1.1.1 GFLOPS](https://youtu.be/cRyVMrNNRCk?si=mttXpzKWQVQP9sSB)).\n",
    "    - How many floating point operations (add, subtract, multiply, and maybe\n",
    "      divide) a code does per second.\n",
    "    - How to estimate: for matrix-matrix multiply we have 2 FLOP per inner loop,\n",
    "      and a triply nested loop thus total $\\text{FLOPs} = 2nmk$. The FLOPS are\n",
    "      then $\\text{FLOPS} = 2nmk / \\text{time}$. Note that usually we use\n",
    "      GigaFLOPS or GFLOPS: $\\text{GFLOPS} = 2nmk / \\text{time} / 10^9$.\n",
    "    - Calculate for one core of your machine:\n",
    "      $$\n",
    "      \\text{FLOPS} = \\frac{\\text{cycle}}{\\text{second}} \\frac{\\text{FLOPs}}{\\text{cycle}} \n",
    "      $$\n",
    "      - cycles-per-second can be looked up for your CPU on your machine\n",
    "      - FLOPS-per-cycle can be tricky to find, is based on your processors\n",
    "        microarchitecture and is most easily found on the [Wikipedia FLOP page](https://en.wikipedia.org/wiki/Floating_point_operations_per_second#FLOPs_per_cycle_for_various_processors).\n",
    "        For instance my laptop has an Intel Core i5-8210Y CPU at 1.6 GHz. This\n",
    "        is an Amber Lake processors with 16 FLOPs-per-cycle, and thus has a\n",
    "        calculated FLOP rate of\n",
    "        $$\n",
    "          \\text{FLOPS} = 1.6 \\frac{\\text{Gigacycles}}{\\text{second}}\n",
    "                         16 \\frac{\\text{FLOPs}}{\\text{cycle}}\n",
    "        $$\n",
    "        (Note that some processors support turbo boost so you\n",
    "        may see even higher performance unless turbo boost is disabled)\n",
    "  - Memory Bandwidth:\n",
    "    - Rate at which memory can be moved to semiconductor memory (typically from\n",
    "      main memory).\n",
    "    - Can be looked up on manufacture page\n",
    "    - Measure in Gigabits-per-second (GiB/s) or GigaBytes-per-second (GB/s)\n",
    "      - GigaByte (GB): $1 \\text{ GB} = 10^9 \\text{ bytes} = 8 \\times 10^9 \\text{ bits}$\n",
    "      - Gigabit (GiB): $1 \\text{ GiB} = 10^9 \\text{ bits}$\n"
   ]
  }
 ],
 "metadata": {
  "language_info": {
   "name": "python"
  }
 },
 "nbformat": 4,
 "nbformat_minor": 2
}
