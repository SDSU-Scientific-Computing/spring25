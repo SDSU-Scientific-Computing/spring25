{
 "cells": [
  {
   "cell_type": "markdown",
   "metadata": {},
   "source": [
    "# 8) Blocked Matrix-Matrix Multiplication\n",
    "\n",
    "Last time:\n",
    "\n",
    "- CPU optimization\n",
    "\n",
    "Today:\n",
    "\n",
    "1. [Blocked matrix-matrix multiply](#blocked-matrix-matrix-multiply)\n",
    "\n",
    "## 1. Blocked matrix-matrix multiply \n",
    "\n",
    "In this lecture, we are primarily concerned about optimizing the code for small matrix-matrix multiplies -- that is problems which fit in the cache; efficient use of the cache for large matrices is another topic.\n",
    "\n",
    ":::{tip}\n",
    "For this lecture, watch the [video 2.2.1](https://www.cs.utexas.edu/users/flame/laff/pfhp/week2-basic-idea.html) on the LAFF course to have a basic idea.\n",
    ":::"
   ]
  },
  {
   "cell_type": "markdown",
   "metadata": {},
   "source": [
    "The key concept for this unit is blocked matrix-matrix multiply. Namely, we will think of the matrices as partitioned into a set of blocks:\n",
    "\n",
    "$$\n",
    "   C =\n",
    "   \\begin{bmatrix}\n",
    "     C_{11} & C_{12} & \\dots  & C_{1N}\\\\\n",
    "     C_{21} & C_{22} & \\dots  & C_{2N}\\\\\n",
    "     \\vdots & \\vdots & \\ddots & \\vdots\\\\\n",
    "     C_{M1} & C_{M2} & \\dots  & C_{MN}\n",
    "   \\end{bmatrix},\n",
    "$$\n",
    "\n",
    "where each block is of size $m_{b} \\times n_{b}$. The matrices $A$ and $B$ are partitioned in a conformal manner into $M \\times K$ and $K \\times N$ blocks respectively; the block size associated with $K$ is $k_{b}$.\n",
    "\n",
    "With this partitioning of the matrix, the update for block $IJ$ of $C$ is then\n",
    "\n",
    "$$\n",
    "C_{IJ} := C_{IJ} + \\sum_{P=1}^{K} A_{IP} B_{PJ}\n",
    "$$\n",
    "\n",
    "Two questions:\n",
    "\n",
    " - What sizes to pick for $m_{b}$, $n_{b}$, and $k_{b}$ to have a matrix-matrix multiplication that makes sense (dimension-wise)?\n",
    " - What sizes to pick for $m_{b}$, $n_{b}$, and $k_{b}$ in order to most efficiently use the available resources?\n",
    " - Which of the previous forms of matrix-matrix multiply should be used for the inner block multiply $A_{IP} B_{PJ}$?\n",
    "\n"
   ]
  }
 ],
 "metadata": {
  "language_info": {
   "name": "python"
  }
 },
 "nbformat": 4,
 "nbformat_minor": 2
}
