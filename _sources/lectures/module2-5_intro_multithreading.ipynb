{
 "cells": [
  {
   "cell_type": "markdown",
   "metadata": {},
   "source": [
    "# 10) Introduction to Multithreading\n",
    "\n",
    "# 9) Packing for cache\n",
    "\n",
    "Last time:\n",
    "- Packing for L1/L2 cache\n",
    "- Packing for L3 cache\n",
    "\n",
    "Today:\n",
    "1. [Introduction to threads](#introduction-to-threads)\n",
    "2. [Julia and multithreading](#julia-and-multithreading)  \n",
    "3. [Julia VSCode extension](#julia-vscode-extension)\n",
    "4. [Multithreading the matrix-matrix multiply](#multithreading-the-matrix-matrix-multiply)"
   ]
  },
  {
   "cell_type": "markdown",
   "metadata": {},
   "source": [
    "In this lecture, we are going to discuss running a multithreaded version of the code. We will use multiple threads on our example problem, the matrix-matrix multiply."
   ]
  },
  {
   "cell_type": "markdown",
   "metadata": {},
   "source": [
    "## 1. Introduction to threads\n",
    "\n",
    "In computer science, a [**thread**](https://en.wikipedia.org/wiki/Thread_(computing)) of execution is the _smallest sequence of programmed instructions_ that can be managed independently by a scheduler, which is typically a part of the operating system. In many cases, a thread is a component of a [process](https://en.wikipedia.org/wiki/Process_(computing)) (i.e., the instance of a computer program that is being executed).\n",
    "\n",
    "The multiple threads of a given process may be executed concurrently (via [**multithreading**](https://en.wikipedia.org/wiki/Multithreading_(computer_architecture)) capabilities), sharing resources such as memory, while different processes do _not_ share these resources. \n",
    "\n",
    "In particular, the threads of a process share its executable code and the values of its dynamically allocated variables and non-thread-local global variables at any given time.\n",
    "\n",
    "The implementation of threads and processes differs between operating systems. In fact, depending on the OS, a process may be made up of multiple threads of execution that execute instructions _concurrently_.\n",
    "\n",
    "### Advantages of multithreading\n",
    "\n",
    "If a thread gets a lot of cache misses, the other threads can continue taking advantage of the unused computing resources, which may lead to faster overall execution, as these resources would have been idle if only a single thread were executed. Also, if a thread cannot use all the computing resources of the CPU (because instructions depend on each other's result), running another thread may prevent those resources from becoming idle.\n",
    "\n",
    "### Disadvantages of multithreading\n",
    "\n",
    "Multiple threads can interfere with each other when sharing hardware resources such as caches or translation lookaside buffers (TLBs). As a result, execution times of a single thread are not improved and can be degraded, even when only one thread is executing, due to lower frequencies or additional pipeline stages that are necessary to accommodate thread-switching hardware.\n",
    "\n",
    "Merging data from two processes (in the case of [multiprocessing](https://en.wikipedia.org/wiki/Multiprocessing)) or threads can often incur higher costs compared to processing the same data on a single thread, due to overheads such as _inter-process communication_ and _synchronization_. \n",
    "\n",
    "Overall, efficiency of multi-threading varies across different vendors and programming implementations."
   ]
  },
  {
   "cell_type": "markdown",
   "metadata": {},
   "source": [
    "## 2. Julia and multithreading\n",
    "\n",
    ":::{tip}\n",
    "For reference see the official [Julia documentation on multithreading](https://docs.julialang.org/en/v1/manual/multi-threading/).\n",
    ":::\n",
    "\n",
    "In the Julia REPL, you can see how many threads you have access to with:"
   ]
  },
  {
   "cell_type": "code",
   "execution_count": null,
   "metadata": {},
   "outputs": [],
   "source": [
    "Threads.nthreads()"
   ]
  },
  {
   "cell_type": "markdown",
   "metadata": {},
   "source": [
    "By default it will be `1`. To use more than `1` thread we need to either set the environment variable `JULIA_NUM_THREADS` or use the command line argument\n",
    "`--threads` (or `-t`) when you start Julia from a terminal. Example:\n",
    "\n",
    "```sh\n",
    "julia --threads=5\n",
    "```"
   ]
  },
  {
   "cell_type": "markdown",
   "metadata": {},
   "source": [
    "## 3. Julia VSCode extension\n",
    "\n",
    "If you use VSCode as an IDE, to install the **Julia for VSCode extension**, open VSCode, go to Extensions, search for Julia and install. \n",
    "\n",
    "Once this is done, you should be able to run Julia within VSCode without any further configuration (sometimes you might have to set the _Julia Executable path_ setting). \n",
    "\n",
    "Examples of what is possible:\n",
    "\n",
    "- A console for Julia which you can get by typing Alt+J, Alt+O in VSCode.\n",
    "- Using Julia in a scripting environment in VSCode. When working on a Julia script (a .jl text file) you may evaluate any amount of code in the script interactively. E.g., Ctrl+Enter evaluates current line being edited. The Julia process that evaluates the script is the same as the one in the console you get in point 1. The Julia console and the text editor window are linked!\n",
    "- You can open Jupyter notebooks without installing anything else. Simply drag+drop the notebook into VSCode and it will request a \"kernel\" (choose Julia). Each Jupyter notebook launches a dedicated Julia process, so the Jupyter notebooks are not linked with the standard text editor and Julia console of VSCode!\n",
    "\n",
    ":::{tip}\n",
    "The instructions above are referenced from a very good resource: the [Zero-to-Hero Julia workshop](https://github.com/Datseris/Zero2Hero-JuliaWorkshop) that you should check out.\n",
    ":::\n",
    "\n",
    "Going back to multi-threading, in VSCode you can set the number of threads for the REPL by going to the settings for the Julia plugin:\n",
    "\n",
    "- click on extension\n",
    "- click the little gear\n",
    "- search for `threads`\n",
    "- set the number you want\n",
    "\n",
    "Every thread knows its unique `threadid`."
   ]
  },
  {
   "cell_type": "code",
   "execution_count": null,
   "metadata": {},
   "outputs": [],
   "source": [
    "Threads.threadid()"
   ]
  },
  {
   "cell_type": "markdown",
   "metadata": {},
   "source": [
    "To access multiple threads we use the `Threads.@threads` macro which will split the iterations of a loop over the available threads. For example:"
   ]
  },
  {
   "cell_type": "code",
   "execution_count": null,
   "metadata": {},
   "outputs": [],
   "source": [
    "Threads.@threads for i = 1:13\n",
    "    @show (Threads.threadid(), i)\n",
    "end"
   ]
  },
  {
   "cell_type": "markdown",
   "metadata": {},
   "source": [
    "Note that the threads execute **asynchronously** (meaning thread `1` executes at the same time as thread `2`, etc.), but the partitioning is deterministic/static.\n",
    "\n",
    "If I started Julia with, say, $4$ threads, with\n",
    "\n",
    "```sh \n",
    "julia --threads=4\n",
    "```\n",
    "\n",
    "then the above for loop would show:\n",
    "\n",
    "```julia\n",
    "julia> Threads.@threads for i = 1:13\n",
    "           @show (Threads.threadid(), i)\n",
    "       end\n",
    "(Threads.threadid(), i) = (1, 1)\n",
    "(Threads.threadid(), i) = (4, 8)\n",
    "(Threads.threadid(), i) = (2, 5)\n",
    "(Threads.threadid(), i) = (3, 11)\n",
    "(Threads.threadid(), i) = (1, 2)\n",
    "(Threads.threadid(), i) = (2, 6)\n",
    "(Threads.threadid(), i) = (3, 12)\n",
    "(Threads.threadid(), i) = (3, 13)\n",
    "(Threads.threadid(), i) = (1, 3)\n",
    "(Threads.threadid(), i) = (2, 7)\n",
    "(Threads.threadid(), i) = (4, 9)\n",
    "(Threads.threadid(), i) = (1, 4)\n",
    "(Threads.threadid(), i) = (4, 10)\n",
    "```"
   ]
  },
  {
   "cell_type": "markdown",
   "metadata": {},
   "source": [
    "- Thread `1` handles loop index `1, 2, 3, 4`\n",
    "- Thread `2` handles loop index `5, 6, 7`\n",
    "- Thread `3` handles loop index `11, 12, 13`\n",
    "- Thread `4` handles loop index `8, 9, 10`"
   ]
  },
  {
   "cell_type": "markdown",
   "metadata": {},
   "source": [
    "## 4. Multithreading the matrix-matrix multiply\n",
    "\n",
    "In principle we can use multiple threads to split any of the loops into multiple threads.\n",
    "\n",
    "We need to be careful about avoiding [race conditions](https://en.wikipedia.org/wiki/Race_condition), which may happen if multiple threads will try to update the same micropanel.\n",
    "\n",
    "### Loop 1: `mygemm_I_packed`"
   ]
  }
 ],
 "metadata": {
  "kernelspec": {
   "display_name": "Julia 1.10.6",
   "language": "julia",
   "name": "julia-1.10"
  },
  "language_info": {
   "file_extension": ".jl",
   "mimetype": "application/julia",
   "name": "julia",
   "version": "1.10.6"
  }
 },
 "nbformat": 4,
 "nbformat_minor": 2
}
